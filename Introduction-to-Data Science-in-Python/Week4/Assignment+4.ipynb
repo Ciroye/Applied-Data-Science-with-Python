{
 "cells": [
  {
   "cell_type": "markdown",
   "metadata": {},
   "source": [
    "---\n",
    "\n",
    "_You are currently looking at **version 1.1** of this notebook. To download notebooks and datafiles, as well as get help on Jupyter notebooks in the Coursera platform, visit the [Jupyter Notebook FAQ](https://www.coursera.org/learn/python-data-analysis/resources/0dhYG) course resource._\n",
    "\n",
    "---"
   ]
  },
  {
   "cell_type": "code",
   "execution_count": 73,
   "metadata": {
    "collapsed": true
   },
   "outputs": [],
   "source": [
    "import pandas as pd\n",
    "import numpy as np\n",
    "from scipy.stats import ttest_ind"
   ]
  },
  {
   "cell_type": "markdown",
   "metadata": {},
   "source": [
    "# Assignment 4 - Hypothesis Testing\n",
    "This assignment requires more individual learning than previous assignments - you are encouraged to check out the [pandas documentation](http://pandas.pydata.org/pandas-docs/stable/) to find functions or methods you might not have used yet, or ask questions on [Stack Overflow](http://stackoverflow.com/) and tag them as pandas and python related. And of course, the discussion forums are open for interaction with your peers and the course staff.\n",
    "\n",
    "Definitions:\n",
    "* A _quarter_ is a specific three month period, Q1 is January through March, Q2 is April through June, Q3 is July through September, Q4 is October through December.\n",
    "* A _recession_ is defined as starting with two consecutive quarters of GDP decline, and ending with two consecutive quarters of GDP growth.\n",
    "* A _recession bottom_ is the quarter within a recession which had the lowest GDP.\n",
    "* A _university town_ is a city which has a high percentage of university students compared to the total population of the city.\n",
    "\n",
    "**Hypothesis**: University towns have their mean housing prices less effected by recessions. Run a t-test to compare the ratio of the mean price of houses in university towns the quarter before the recession starts compared to the recession bottom. (`price_ratio=quarter_before_recession/recession_bottom`)\n",
    "\n",
    "The following data files are available for this assignment:\n",
    "* From the [Zillow research data site](http://www.zillow.com/research/data/) there is housing data for the United States. In particular the datafile for [all homes at a city level](http://files.zillowstatic.com/research/public/City/City_Zhvi_AllHomes.csv), ```City_Zhvi_AllHomes.csv```, has median home sale prices at a fine grained level.\n",
    "* From the Wikipedia page on college towns is a list of [university towns in the United States](https://en.wikipedia.org/wiki/List_of_college_towns#College_towns_in_the_United_States) which has been copy and pasted into the file ```university_towns.txt```.\n",
    "* From Bureau of Economic Analysis, US Department of Commerce, the [GDP over time](http://www.bea.gov/national/index.htm#gdp) of the United States in current dollars (use the chained value in 2009 dollars), in quarterly intervals, in the file ```gdplev.xls```. For this assignment, only look at GDP data from the first quarter of 2000 onward.\n",
    "\n",
    "Each function in this assignment below is worth 10%, with the exception of ```run_ttest()```, which is worth 50%."
   ]
  },
  {
   "cell_type": "code",
   "execution_count": 74,
   "metadata": {
    "collapsed": true
   },
   "outputs": [],
   "source": [
    "# Use this dictionary to map state names to two letter acronyms\n",
    "states = {'OH': 'Ohio', 'KY': 'Kentucky', 'AS': 'American Samoa', 'NV': 'Nevada', 'WY': 'Wyoming', 'NA': 'National', 'AL': 'Alabama', 'MD': 'Maryland', 'AK': 'Alaska', 'UT': 'Utah', 'OR': 'Oregon', 'MT': 'Montana', 'IL': 'Illinois', 'TN': 'Tennessee', 'DC': 'District of Columbia', 'VT': 'Vermont', 'ID': 'Idaho', 'AR': 'Arkansas', 'ME': 'Maine', 'WA': 'Washington', 'HI': 'Hawaii', 'WI': 'Wisconsin', 'MI': 'Michigan', 'IN': 'Indiana', 'NJ': 'New Jersey', 'AZ': 'Arizona', 'GU': 'Guam', 'MS': 'Mississippi', 'PR': 'Puerto Rico', 'NC': 'North Carolina', 'TX': 'Texas', 'SD': 'South Dakota', 'MP': 'Northern Mariana Islands', 'IA': 'Iowa', 'MO': 'Missouri', 'CT': 'Connecticut', 'WV': 'West Virginia', 'SC': 'South Carolina', 'LA': 'Louisiana', 'KS': 'Kansas', 'NY': 'New York', 'NE': 'Nebraska', 'OK': 'Oklahoma', 'FL': 'Florida', 'CA': 'California', 'CO': 'Colorado', 'PA': 'Pennsylvania', 'DE': 'Delaware', 'NM': 'New Mexico', 'RI': 'Rhode Island', 'MN': 'Minnesota', 'VI': 'Virgin Islands', 'NH': 'New Hampshire', 'MA': 'Massachusetts', 'GA': 'Georgia', 'ND': 'North Dakota', 'VA': 'Virginia'}"
   ]
  },
  {
   "cell_type": "code",
   "execution_count": 75,
   "metadata": {
    "umich_part_id": "021",
    "umich_partlist_id": "004"
   },
   "outputs": [],
   "source": [
    "def get_list_of_university_towns():\n",
    "    '''Returns a DataFrame of towns and the states they are in from the \n",
    "    university_towns.txt list. The format of the DataFrame should be:\n",
    "    DataFrame( [ [\"Michigan\", \"Ann Arbor\"], [\"Michigan\", \"Yipsilanti\"] ], \n",
    "    columns=[\"State\", \"RegionName\"]  )\n",
    "    \n",
    "    The following cleaning needs to be done:\n",
    "\n",
    "    1. For \"State\", removing characters from \"[\" to the end.\n",
    "    2. For \"RegionName\", when applicable, removing every character from \" (\" to the end.\n",
    "    3. Depending on how you read the data, you may need to remove newline character '\\n'. '''\n",
    "    \n",
    "    df = pd.DataFrame([],columns=[\"State\", \"RegionName\"])\n",
    "    with open('university_towns.txt' , \"r\") as file:\n",
    "        for line in file:\n",
    "            if '[edit]' in line:\n",
    "                state = line[:line.find('[')].strip()\n",
    "                continue\n",
    "            region = line.strip()\n",
    "            if \"(\" in region:\n",
    "                region = region[:(region.find('(') - 1)]\n",
    "            df = df.append(pd.DataFrame([[state,region]],columns=[\"State\", \"RegionName\"]),ignore_index=True)\n",
    "    return df"
   ]
  },
  {
   "cell_type": "code",
   "execution_count": 76,
   "metadata": {
    "umich_part_id": "022",
    "umich_partlist_id": "004"
   },
   "outputs": [],
   "source": [
    "def get_recession_start():\n",
    "    gdp_data = pd.read_excel('gdplev.xls')\n",
    "    gdp_data = (gdp_data.drop(['Current-Dollar and \"Real\" Gross Domestic Product',\n",
    "                               'Unnamed: 1', 'Unnamed: 2', 'Unnamed: 3', 'Unnamed: 5'],axis=1).ix[7:])\n",
    "    gdp_data = gdp_data.rename(columns={'Unnamed: 4': 'Quarter','Unnamed: 6': \"GDP\"}).set_index('Quarter')\n",
    "    index = gdp_data.index.get_loc('2000q1')\n",
    "    gdp_data = gdp_data[index:]\n",
    "    for i in range(1, len(gdp_data) - 1):\n",
    "        if(gdp_data.iloc[i][\"GDP\"] < gdp_data.iloc[i-1][\"GDP\"]) and (gdp_data.iloc[i+1][\"GDP\"] < gdp_data.iloc[i][\"GDP\"]):\n",
    "            return gdp_data.iloc[i].name"
   ]
  },
  {
   "cell_type": "code",
   "execution_count": 77,
   "metadata": {
    "umich_part_id": "023",
    "umich_partlist_id": "004"
   },
   "outputs": [],
   "source": [
    "def get_recession_end():\n",
    "    gdp_data = pd.read_excel('gdplev.xls')\n",
    "    gdp_data = (gdp_data.drop(['Current-Dollar and \"Real\" Gross Domestic Product',\n",
    "                               'Unnamed: 1', 'Unnamed: 2', 'Unnamed: 3', 'Unnamed: 5'],axis=1).ix[7:])\n",
    "    gdp_data = gdp_data.rename(columns={'Unnamed: 4': 'Quarter','Unnamed: 6': \"GDP\"}).set_index('Quarter')\n",
    "    recession_start = get_recession_start()\n",
    "    index = gdp_data.index.get_loc(recession_start)\n",
    "    for i in range(index + 2,len(gdp_data)):\n",
    "        if(gdp_data.iloc[i][\"GDP\"] > gdp_data.iloc[i-1][\"GDP\"]) and (gdp_data.iloc[i-1][\"GDP\"] > gdp_data.iloc[i-2][\"GDP\"]):\n",
    "            return gdp_data.iloc[i].name"
   ]
  },
  {
   "cell_type": "code",
   "execution_count": 78,
   "metadata": {
    "umich_part_id": "024",
    "umich_partlist_id": "004"
   },
   "outputs": [],
   "source": [
    "def get_recession_bottom():\n",
    "    '''Returns the year and quarter of the recession bottom time as a \n",
    "    string value in a format such as 2005q3'''\n",
    "    gdp_data = pd.read_excel('gdplev.xls')\n",
    "    gdp_data = (gdp_data.drop(['Current-Dollar and \"Real\" Gross Domestic Product',\n",
    "                               'Unnamed: 1', 'Unnamed: 2', 'Unnamed: 3', 'Unnamed: 5'],axis=1).ix[7:])\n",
    "    gdp_data = gdp_data.rename(columns={'Unnamed: 4': 'Quarter','Unnamed: 6': \"GDP\"}).set_index('Quarter')\n",
    "    recession_start = gdp_data.index.get_loc(get_recession_start())\n",
    "    recession_end = gdp_data.index.get_loc(get_recession_end())\n",
    "    gdp_data = gdp_data[recession_start:recession_end+1]\n",
    "    recession_bottom = gdp_data[gdp_data[\"GDP\"] == np.min(gdp_data[\"GDP\"])].iloc[0].name\n",
    "    return recession_bottom"
   ]
  },
  {
   "cell_type": "code",
   "execution_count": 79,
   "metadata": {
    "umich_part_id": "025",
    "umich_partlist_id": "004"
   },
   "outputs": [],
   "source": [
    "def get_quarter():\n",
    "    years = list(range(2000,2017))\n",
    "    quarters = [\"q1\",\"q2\",\"q3\",\"q4\"]\n",
    "    quarters_years = []\n",
    "    for year in years:\n",
    "        for quarter in quarters:\n",
    "            quarters_years.append(str(year)+quarter)\n",
    "    quarters_years.pop()\n",
    "    return quarters_years\n",
    "\n",
    "def convert_housing_data_to_quarters():\n",
    "    '''Converts the housing data to quarters and returns it as mean \n",
    "    values in a dataframe. This dataframe should be a dataframe with\n",
    "    columns for 2000q1 through 2016q3, and should have a multi-index\n",
    "    in the shape of [\"State\",\"RegionName\"].\n",
    "    \n",
    "    Note: Quarters are defined in the assignment description, they are\n",
    "    not arbitrary three month periods.\n",
    "    \n",
    "    The resulting dataframe should have 67 columns, and 10,730 rows.\n",
    "    '''\n",
    "    df = pd.read_csv('City_Zhvi_AllHomes.csv')\n",
    "    df.drop(['Metro','CountyName','RegionID','SizeRank'],axis=1,inplace=1)\n",
    "    df['State'] = df['State'].map(states)\n",
    "    df.set_index(['State','RegionName'],inplace=True)\n",
    "    col = list(df.columns)\n",
    "    col = col[0:45]\n",
    "    df.drop(col,axis=1,inplace=1)\n",
    "    quarter = [list(df.columns)[x:x+3] for x in range(0, len(list(df.columns)), 3)]\n",
    "    \n",
    "    # new columns\n",
    "    column_names = new_col_names()\n",
    "    for col,quarter in zip(column_names,quarter):\n",
    "        df[col] = df[quarter].mean(axis=1)\n",
    "        \n",
    "    df = df[column_names]\n",
    "    return df"
   ]
  },
  {
   "cell_type": "code",
   "execution_count": 80,
   "metadata": {
    "umich_part_id": "026",
    "umich_partlist_id": "004"
   },
   "outputs": [],
   "source": [
    "def run_ttest():\n",
    "    '''First creates new data showing the decline or growth of housing prices\n",
    "    between the recession start and the recession bottom. Then runs a ttest\n",
    "    comparing the university town values to the non-university towns values, \n",
    "    return whether the alternative hypothesis (that the two groups are the same)\n",
    "    is true or not as well as the p-value of the confidence. \n",
    "    \n",
    "    Return the tuple (different, p, better) where different=True if the t-test is\n",
    "    True at a p<0.01 (we reject the null hypothesis), or different=False if \n",
    "    otherwise (we cannot reject the null hypothesis). The variable p should\n",
    "    be equal to the exact p value returned from scipy.stats.ttest_ind(). The\n",
    "    value for better should be either \"university town\" or \"non-university town\"\n",
    "    depending on which has a lower mean price ratio (which is equivilent to a\n",
    "    reduced market loss).'''\n",
    "    df = convert_housing_data_to_quarters().copy()\n",
    "    df = df.loc[:,'2008q3':'2009q2']\n",
    "    df = df.reset_index()\n",
    "    def price_ratio(row):\n",
    "        return (row['2008q3'] - row['2009q2'])/row['2008q3']\n",
    "    \n",
    "    df[\"up-down\"] = df.apply(price_ratio,axis=1)\n",
    "    uni_town = get_list_of_university_towns()['RegionName']\n",
    "    uni_town = set(uni_town)\n",
    "\n",
    "    def is_uni_town(row):\n",
    "        #check if the town is a university towns or not.\n",
    "        if row['RegionName'] in uni_town:\n",
    "            return 1\n",
    "        else:\n",
    "            return 0\n",
    "    df['Uni'] = df.apply(is_uni_town,axis=1)\n",
    "    uni = df[df[\"Uni\"] == 1].loc[:,\"up-down\"].dropna()\n",
    "    no_uni = df[df[\"Uni\"] == 0].loc[:,\"up-down\"].dropna()\n",
    "    def best():\n",
    "        if uni.mean() < no_uni.mean():\n",
    "            return \"university town\"\n",
    "        else:\n",
    "            return \"non-university town\"\n",
    "    p_value = list(ttest_ind(uni,no_uni))[1]      \n",
    "    return (True,p_value,best())"
   ]
  }
 ],
 "metadata": {
  "coursera": {
   "course_slug": "python-data-analysis",
   "graded_item_id": "Il9Fx",
   "launcher_item_id": "TeDW0",
   "part_id": "WGlun"
  },
  "kernelspec": {
   "display_name": "Python 3",
   "language": "python",
   "name": "python3"
  },
  "language_info": {
   "codemirror_mode": {
    "name": "ipython",
    "version": 3
   },
   "file_extension": ".py",
   "mimetype": "text/x-python",
   "name": "python",
   "nbconvert_exporter": "python",
   "pygments_lexer": "ipython3",
   "version": "3.6.0"
  },
  "umich": {
   "id": "Assignment 4",
   "version": "1.1"
  }
 },
 "nbformat": 4,
 "nbformat_minor": 1
}
